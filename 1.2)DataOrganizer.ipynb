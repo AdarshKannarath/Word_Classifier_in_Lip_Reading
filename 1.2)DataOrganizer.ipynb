{
 "cells": [
  {
   "cell_type": "code",
   "id": "initial_id",
   "metadata": {
    "collapsed": true,
    "ExecuteTime": {
     "end_time": "2024-10-23T05:20:36.148350Z",
     "start_time": "2024-10-23T05:20:36.132448Z"
    }
   },
   "source": [
    "import os\n",
    "\n",
    "def rename_files_in_folder(folder_name, speaker_name, session_name, word_name):\n",
    "    # Path to the session folder inside the 'data' directory\n",
    "    folder_path = os.path.join(\"test_data\", folder_name)\n",
    "    \n",
    "    # List all files in the folder\n",
    "    files = os.listdir(folder_path)\n",
    "    \n",
    "    # Sort files to maintain order\n",
    "    files.sort()\n",
    "\n",
    "    # Rename folder\n",
    "    new_folder_name = f\"{speaker_name}_{session_name}_{word_name}\"\n",
    "    new_folder_path = os.path.join(\"test_data\", new_folder_name)\n",
    "    os.rename(folder_path, new_folder_path)\n",
    "    \n",
    "    # Iterate over each file in the folder\n",
    "    for index, file_name in enumerate(files):\n",
    "        # Construct the new file name\n",
    "        new_file_name = f\"{speaker_name}_{session_name}_{word_name}_{index+1}.avi\"\n",
    "        old_file_path = os.path.join(new_folder_path, file_name)\n",
    "        new_file_path = os.path.join(new_folder_path, new_file_name)\n",
    "        \n",
    "        # Rename the file\n",
    "        os.rename(old_file_path, new_file_path)\n",
    "    \n",
    "    print(f\"Renamed folder and files in {new_folder_path}\")\n",
    "\n",
    "# Example usage:\n",
    "folder_name = \"session_26\"  # Replace with the name of your session folder within 'data'\n",
    "speaker_name = \"TestSpeaker1\"\n",
    "session_name = \"Session1\"\n",
    "word_name = \"car\"\n",
    "\n",
    "rename_files_in_folder(folder_name, speaker_name, session_name, word_name)"
   ],
   "outputs": [
    {
     "name": "stdout",
     "output_type": "stream",
     "text": [
      "Renamed folder and files in test_data\\TestSpeaker1_Session1_car\n"
     ]
    }
   ],
   "execution_count": 28
  },
  {
   "metadata": {
    "ExecuteTime": {
     "end_time": "2024-10-23T05:20:36.243761Z",
     "start_time": "2024-10-23T05:20:36.232591Z"
    }
   },
   "cell_type": "code",
   "source": "",
   "id": "fa6e19fefc0e42c0",
   "outputs": [],
   "execution_count": null
  }
 ],
 "metadata": {
  "kernelspec": {
   "display_name": "Python 3",
   "language": "python",
   "name": "python3"
  },
  "language_info": {
   "codemirror_mode": {
    "name": "ipython",
    "version": 3
   },
   "file_extension": ".py",
   "mimetype": "text/x-python",
   "name": "python",
   "nbconvert_exporter": "python",
   "pygments_lexer": "ipython3",
   "version": "3.9.19"
  }
 },
 "nbformat": 4,
 "nbformat_minor": 5
}
