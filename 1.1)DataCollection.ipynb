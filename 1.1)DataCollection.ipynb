{
 "cells": [
  {
   "cell_type": "code",
   "id": "c1b75110813e4638",
   "metadata": {
    "ExecuteTime": {
     "end_time": "2024-10-23T03:43:45.519361Z",
     "start_time": "2024-10-23T03:43:45.511105Z"
    }
   },
   "source": [
    "import cv2\n",
    "import os\n",
    "import time"
   ],
   "outputs": [],
   "execution_count": 62
  },
  {
   "cell_type": "code",
   "id": "8f255da3170a5d8c",
   "metadata": {
    "ExecuteTime": {
     "end_time": "2024-10-23T03:43:48.354183Z",
     "start_time": "2024-10-23T03:43:45.527375Z"
    }
   },
   "source": [
    "# Set video capture settings\n",
    "capture_duration = 2  # Duration for each video (in seconds)\n",
    "num_videos = 1  # Number of videos to capture in succession\n",
    "interval_between_videos = 1  # Interval between videos (in seconds)\n",
    "base_folder = 'test_data'  # Base folder to save videos\n",
    "\n",
    "# Initialize camera\n",
    "cap = cv2.VideoCapture(0)\n",
    "\n",
    "# Set the video capture to 720p resolution (1280x720) with 30 FPS\n",
    "cap.set(cv2.CAP_PROP_FRAME_WIDTH, 1280)  # Width for 720p\n",
    "cap.set(cv2.CAP_PROP_FRAME_HEIGHT, 720)  # Height for 720p\n",
    "cap.set(cv2.CAP_PROP_FPS, 30)            # Frame rate\n",
    "\n",
    "# Create a new folder for this session\n",
    "folder_index = len(os.listdir(base_folder)) + 1\n",
    "session_folder = os.path.join(base_folder, f\"session_{folder_index}\")\n",
    "os.makedirs(session_folder, exist_ok=True)"
   ],
   "outputs": [],
   "execution_count": 63
  },
  {
   "cell_type": "code",
   "id": "d84ff6ebc6df7e05",
   "metadata": {
    "ExecuteTime": {
     "end_time": "2024-10-23T03:43:51.964304Z",
     "start_time": "2024-10-23T03:43:48.371814Z"
    }
   },
   "source": [
    "# Display window for the first 5 seconds for adjustment\n",
    "for i in range(3, 0, -1):\n",
    "    ret, frame = cap.read()\n",
    "    if ret:\n",
    "        countdown_text = f\"Recording starts in {i}...\"\n",
    "        frame = cv2.putText(frame, countdown_text, (50, 50), cv2.FONT_HERSHEY_SIMPLEX, 1, (0, 255, 0), 2, cv2.LINE_AA)\n",
    "        cv2.imshow('Video Capture', cv2.resize(frame, (960, 540)))  # Medium-sized window\n",
    "        cv2.waitKey(1000)  # Wait for 1 second (1000 ms)\n",
    "    else:\n",
    "        break"
   ],
   "outputs": [],
   "execution_count": 64
  },
  {
   "cell_type": "code",
   "id": "f597e16d1962eeb1",
   "metadata": {
    "ExecuteTime": {
     "end_time": "2024-10-23T03:43:55.026905Z",
     "start_time": "2024-10-23T03:43:51.981709Z"
    }
   },
   "source": [
    "# Capture the videos in succession using the same window\n",
    "for video_num in range(num_videos):\n",
    "    video_filename = os.path.join(session_folder, f\"video_{video_num + 1}.avi\")\n",
    "    fourcc = cv2.VideoWriter_fourcc(*'XVID')  # Codec for .avi files\n",
    "    out = cv2.VideoWriter(video_filename, fourcc, 30.0, (1280, 720))  # 30 FPS, 720p resolution\n",
    "\n",
    "    # Show \"Recording\" prompt in the top left corner during recording\n",
    "    start_time = time.time()\n",
    "    while int(time.time() - start_time) < capture_duration:\n",
    "        ret, frame = cap.read()\n",
    "        if ret:\n",
    "            recording_text = \"Recording...\"\n",
    "            frame = cv2.putText(frame, recording_text, (50, 50), cv2.FONT_HERSHEY_SIMPLEX, 1, (0, 0, 255), 2, cv2.LINE_AA)\n",
    "            out.write(frame)\n",
    "            cv2.imshow('Video Capture', cv2.resize(frame, (960, 540)))  # Continue showing in the same window\n",
    "            cv2.waitKey(1)\n",
    "        else:\n",
    "            break\n",
    "\n",
    "    out.release()\n",
    "\n",
    "    # Interval between videos with the same window\n",
    "    for i in range(interval_between_videos, 0, -1):\n",
    "        ret, frame = cap.read()\n",
    "        if ret:\n",
    "            waiting_text = f\"Waiting for {i} seconds...\"\n",
    "            frame = cv2.putText(frame, waiting_text, (50, 50), cv2.FONT_HERSHEY_SIMPLEX, 1, (255, 0, 0), 2, cv2.LINE_AA)\n",
    "            cv2.imshow('Video Capture', cv2.resize(frame, (960, 540)))  # Continue showing in the same window\n",
    "            cv2.waitKey(1000)  # Wait for 1 second (1000 ms)\n",
    "        else:\n",
    "            break"
   ],
   "outputs": [],
   "execution_count": 65
  },
  {
   "cell_type": "code",
   "id": "76dc650d742c4f7b",
   "metadata": {
    "ExecuteTime": {
     "end_time": "2024-10-23T03:43:55.335183Z",
     "start_time": "2024-10-23T03:43:55.044590Z"
    }
   },
   "source": [
    "cv2.destroyAllWindows()\n",
    "cap.release()"
   ],
   "outputs": [],
   "execution_count": 66
  }
 ],
 "metadata": {
  "kernelspec": {
   "display_name": "Python 3",
   "language": "python",
   "name": "python3"
  },
  "language_info": {
   "codemirror_mode": {
    "name": "ipython",
    "version": 3
   },
   "file_extension": ".py",
   "mimetype": "text/x-python",
   "name": "python",
   "nbconvert_exporter": "python",
   "pygments_lexer": "ipython3",
   "version": "3.9.19"
  }
 },
 "nbformat": 4,
 "nbformat_minor": 5
}
